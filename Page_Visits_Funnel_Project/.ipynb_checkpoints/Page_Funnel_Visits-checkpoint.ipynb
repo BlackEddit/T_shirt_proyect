{
 "cells": [
  {
   "cell_type": "code",
   "execution_count": 104,
   "metadata": {},
   "outputs": [],
   "source": [
    "import pandas as pd\n",
    "#Agregare esta libreria para un mejor manejo y visualizacion de los datos, mayormente manipulables\n",
    "from tabulate import tabulate\n",
    "import matplotlib.pyplot as plt\n",
    "import plotly.graph_objects as go\n",
    "\n",
    "\n",
    "\n"
   ]
  },
  {
   "cell_type": "markdown",
   "metadata": {},
   "source": [
    "Import all the files"
   ]
  },
  {
   "cell_type": "code",
   "execution_count": 105,
   "metadata": {},
   "outputs": [],
   "source": [
    "# Lectura de los csv \n",
    "#parse_dates=[1] le está diciendo a pandas que analice la segunda columna (la columna con índice 1) como fechas.\n",
    "visits = pd.read_csv('visits.csv',\n",
    "                     parse_dates=[1])\n",
    "cart = pd.read_csv('cart.csv',\n",
    "                   parse_dates=[1])\n",
    "                   \n",
    "checkout = pd.read_csv('checkout.csv',\n",
    "                       parse_dates=[1])\n",
    "purchase = pd.read_csv('purchase.csv',\n",
    "                       parse_dates=[1])"
   ]
  },
  {
   "cell_type": "markdown",
   "metadata": {},
   "source": [
    "Step 1: Inspect the DataFrames using `print` and `head`"
   ]
  },
  {
   "cell_type": "code",
   "execution_count": 106,
   "metadata": {},
   "outputs": [
    {
     "name": "stdout",
     "output_type": "stream",
     "text": [
      "                                user_id          visit_time\n",
      "0  943647ef-3682-4750-a2e1-918ba6f16188 2017-04-07 15:14:00\n",
      "1  0c3a3dd0-fb64-4eac-bf84-ba069ce409f2 2017-01-26 14:24:00\n",
      "2  6e0b2d60-4027-4d9a-babd-0e7d40859fb1 2017-08-20 08:23:00\n",
      "3  6879527e-c5a6-4d14-b2da-50b85212b0ab 2017-11-04 18:15:00\n",
      "4  a84327ff-5daa-4ba1-b789-d5b4caf81e96 2017-02-27 11:25:00\n",
      "                                user_id           cart_time\n",
      "0  2be90e7c-9cca-44e0-bcc5-124b945ff168 2017-11-07 20:45:00\n",
      "1  4397f73f-1da3-4ab3-91af-762792e25973 2017-05-27 01:35:00\n",
      "2  a9db3d4b-0a0a-4398-a55a-ebb2c7adf663 2017-03-04 10:38:00\n",
      "3  b594862a-36c5-47d5-b818-6e9512b939b3 2017-09-27 08:22:00\n",
      "4  a68a16e2-94f0-4ce8-8ce3-784af0bbb974 2017-07-26 15:48:00\n",
      "                                user_id       checkout_time\n",
      "0  d33bdc47-4afa-45bc-b4e4-dbe948e34c0d 2017-06-25 09:29:00\n",
      "1  4ac186f0-9954-4fea-8a27-c081e428e34e 2017-04-07 20:11:00\n",
      "2  3c9c78a7-124a-4b77-8d2e-e1926e011e7d 2017-07-13 11:38:00\n",
      "3  89fe330a-8966-4756-8f7c-3bdbcd47279a 2017-04-20 16:15:00\n",
      "4  3ccdaf69-2d30-40de-b083-51372881aedd 2017-01-08 20:52:00\n",
      "                                user_id       purchase_time\n",
      "0  4b44ace4-2721-47a0-b24b-15fbfa2abf85 2017-05-11 04:25:00\n",
      "1  02e684ae-a448-408f-a9ff-dcb4a5c99aac 2017-09-05 08:45:00\n",
      "2  4b4bc391-749e-4b90-ab8f-4f6e3c84d6dc 2017-11-20 20:49:00\n",
      "3  a5dbb25f-3c36-4103-9030-9f7c6241cd8d 2017-01-22 15:18:00\n",
      "4  46a3186d-7f5a-4ab9-87af-84d05bfd4867 2017-06-11 11:32:00\n"
     ]
    }
   ],
   "source": [
    "print(visits.head(5))\n",
    "print(cart.head(5))\n",
    "print(checkout.head(5))\n",
    "print(purchase.head(5))"
   ]
  },
  {
   "cell_type": "markdown",
   "metadata": {},
   "source": [
    "Step 2: Left merging visits and cart"
   ]
  },
  {
   "cell_type": "code",
   "execution_count": 107,
   "metadata": {},
   "outputs": [
    {
     "name": "stdout",
     "output_type": "stream",
     "text": [
      "visits_cart_left \n",
      "\n",
      "+----+--------------------------------------+---------------------+---------------------+\n",
      "|    | user_id                              | visit_time          | cart_time           |\n",
      "|----+--------------------------------------+---------------------+---------------------|\n",
      "|  0 | 943647ef-3682-4750-a2e1-918ba6f16188 | 2017-04-07 15:14:00 | NaT                 |\n",
      "|  1 | 0c3a3dd0-fb64-4eac-bf84-ba069ce409f2 | 2017-01-26 14:24:00 | 2017-01-26 14:44:00 |\n",
      "|  2 | 6e0b2d60-4027-4d9a-babd-0e7d40859fb1 | 2017-08-20 08:23:00 | 2017-08-20 08:31:00 |\n",
      "|  3 | 6879527e-c5a6-4d14-b2da-50b85212b0ab | 2017-11-04 18:15:00 | NaT                 |\n",
      "|  4 | a84327ff-5daa-4ba1-b789-d5b4caf81e96 | 2017-02-27 11:25:00 | NaT                 |\n",
      "+----+--------------------------------------+---------------------+---------------------+\n"
     ]
    }
   ],
   "source": [
    "# en este caso quiero ver como importa y cual es la diferencia entre ambos si\n",
    "#primero se combina uno y luego otro, ademas de ver otra forma de visualizarlos.\n",
    "\n",
    "visits_cart_left = visits.merge(cart, how = 'left')\n",
    "\n",
    "#cart time es el fecha y tiempo en la cual se agregaron los objetos al carro\n",
    "#recuerda imprimirlo dude\n",
    "#print(visits_cart_left.head())\n",
    "#print('\\n')\n",
    "#print(visits_cart_left.info())\n",
    "#print('\\n')\n",
    "#print(visits_cart_left.describe())\n",
    "\n",
    "#relativamente sencilla, pero cumple su proposito de visualizar de una mejor manera\n",
    "\n",
    "# `tabulate()` es una función que toma un DataFrame y lo convierte en una cadena con formato de tabla.\n",
    "# Usamos `headers='keys'` para indicar que queremos usar los nombres de las columnas del DataFrame como encabezados de la tabla.\n",
    "# Usamos `tablefmt='psql'` para especificar el formato de la tabla. En este caso, 'psql' se asemeja a las tablas de PostgreSQL.\n",
    "# Para un formato de tabla más simple, podríamos cambiar esto a 'simple'.\n",
    "\n",
    "# Finalmente, usamos `print()` para mostrar la tabla en la consola.\n",
    "print(f'visits_cart_left \\n')\n",
    "print(tabulate(visits_cart_left.head(), headers='keys', tablefmt='psql')) #change psql - simple, see what happen\n",
    "\n"
   ]
  },
  {
   "cell_type": "markdown",
   "metadata": {},
   "source": [
    "Step 3: How long is `visits_cart`?"
   ]
  },
  {
   "cell_type": "code",
   "execution_count": 108,
   "metadata": {},
   "outputs": [
    {
     "name": "stdout",
     "output_type": "stream",
     "text": [
      "2000\n"
     ]
    }
   ],
   "source": [
    "#print(visits_cart_left.info())\n",
    "#Aun que de igual menera podriamos verlo visual con la funcion info que utilizamos\n",
    "#arriba, aun que de esta manera no crearimos una variable, creo...\n",
    "\n",
    "#use the function of len, to find the length.\n",
    "len_visits_cart = len(visits_cart_left)\n",
    "print(len_visits_cart)"
   ]
  },
  {
   "cell_type": "markdown",
   "metadata": {},
   "source": [
    "Step 4: How many timestamps are null for `cart_time`?"
   ]
  },
  {
   "cell_type": "code",
   "execution_count": 109,
   "metadata": {},
   "outputs": [
    {
     "name": "stdout",
     "output_type": "stream",
     "text": [
      "This is the quantity of Nulls values in cart time : 1652\n"
     ]
    }
   ],
   "source": [
    "# 'visits_cart_left' es un DataFrame de pandas, que es una tabla de datos.\n",
    "# Usamos la sintaxis 'visits_cart.cart_time.isnull()' para crear una Serie booleana (una lista de valores Verdadero/Falso),\n",
    "# donde cada entrada es Verdadera si el valor correspondiente de 'cart_time' en esa fila es nulo (es decir, no se proporcionó o desconocido).\n",
    "\n",
    "# 'visits_cart[visits_cart.cart_time.isnull()]' usa esta Serie booleana para seleccionar solo las filas del DataFrame donde 'cart_time' es nulo.\n",
    "\n",
    "# 'len()' es una función de Python que da la longitud de una lista o el número de filas en un DataFrame.\n",
    "# Así que 'len(visits_cart[visits_cart.cart_time.isnull()])' nos da el número de filas donde 'cart_time' es nulo.\n",
    "# Almacenamos este número en la variable 'null_cart_times'.\n",
    "\n",
    "                                        #Dataframe - Columna - Funcion ...\n",
    "null_cart_times = len(visits_cart_left[visits_cart_left.cart_time.isnull()])\n",
    "\n",
    "# Finalmente, usamos 'print()' para mostrar este número en la consola. \n",
    "# que muestra la cantidad de ocasiones donde cart.time = es igual a NULL.\n",
    "print(f'This is the quantity of Nulls values in cart time : {null_cart_times}')"
   ]
  },
  {
   "cell_type": "markdown",
   "metadata": {},
   "source": [
    "Step 5: What percentage only visited?"
   ]
  },
  {
   "cell_type": "code",
   "execution_count": 110,
   "metadata": {},
   "outputs": [
    {
     "name": "stdout",
     "output_type": "stream",
     "text": [
      "The % of users who only visit our site is: 82.6%\n"
     ]
    }
   ],
   "source": [
    "# 'null_cart_times' contiene el número de visitantes que solo visitaron el sitio pero no agregaron nada al carrito (es decir, 'cart_time' es NULL).\n",
    "# 'len_visits_cart' contiene el número total de visitas al sitio.\n",
    "\n",
    "# Para calcular el porcentaje de visitantes que solo visitaron el sitio pero no agregaron nada al carrito, \n",
    "# dividimos 'null_cart_times' por 'len_visits_cart'. Ambos deben ser convertidos a float para evitar la división entera.\n",
    "\n",
    "# La división entera en Python (y en muchos otros lenguajes de programación) daría como resultado un número entero, truncando cualquier fracción. \n",
    "# Al convertir los números a float, obtenemos un resultado decimal que representa la fracción exacta de visitantes que solo visitaron el sitio.\n",
    "\n",
    "percetage_only_visit = float(null_cart_times) / float(len_visits_cart)\n",
    "\n",
    "# Multiplicamos por 100 para convertir la fracción en un porcentaje.\n",
    "# Imprimimos el resultado en la consola. \n",
    "# Usamos una f-string (denotada por la 'f' antes de las comillas) para incluir el valor de 'percentage_only_visit' directamente en la cadena.\n",
    "# '{percentage_only_visit * 100}' es reemplazado por el valor de 'percentage_only_visit' multiplicado por 100.\n",
    "print(f'The % of users who only visit our site is: {percetage_only_visit * 100}%')"
   ]
  },
  {
   "cell_type": "code",
   "execution_count": 111,
   "metadata": {},
   "outputs": [
    {
     "data": {
      "image/png": "[encoded data removed]",
      "text/plain": [
       "<Figure size 600x200 with 1 Axes>"
      ]
     },
     "metadata": {},
     "output_type": "display_data"
    },
    {
     "data": {
      "image/png": "[encoded data removed]",
      "text/plain": [
       "<Figure size 600x400 with 1 Axes>"
      ]
     },
     "metadata": {},
     "output_type": "display_data"
    }
   ],
   "source": [
    "            # Creamos dos listas: 'categories' que contiene las dos categorías que estamos comparando \n",
    "            # y 'percentages' que contiene los porcentajes correspondientes a estas categorías.\n",
    "categories = ['Only Visit', 'Add to Cart']\n",
    "            # Porcentage total, y el porcentage que solo ha visitado\n",
    "percentages = [percetage_only_visit * 100, 100 - percetage_only_visit * 100]\n",
    "\n",
    "            # Establecemos el estilo de fondo a oscuro para una mejor visualización y tambien por gusto propio en los colores.\n",
    "plt.style.use('dark_background')\n",
    "\n",
    "            # Comenzamos a definir nuestro gráfico de barras\n",
    "            # Primero, definimos el tamaño de la figura. Los números representan el ancho y la altura en pulgadas\n",
    "plt.figure(figsize=(6, 2))\n",
    "\n",
    "            # Creamos el gráfico de barras con las categorías y porcentajes que definimos anteriormente\n",
    "            # También especificamos los colores de las barras para un mejor contraste visual\n",
    "bars = plt.bar(categories, percentages, color=['skyblue', 'salmon'])\n",
    "\n",
    "            # Agregamos etiquetas a los ejes x y y para una mejor interpretación de los datos\n",
    "plt.xlabel('User Actions')\n",
    "plt.ylabel('Percentage')\n",
    "\n",
    "            # Agregamos un título a nuestro gráfico\n",
    "plt.title('Percentage of User Actions')\n",
    "\n",
    "            # Agregamos el porcentaje exacto sobre cada barra\n",
    "            # Para ello, recorremos cada barra, obtenemos su altura (que es el porcentaje)\n",
    "            # y utilizamos 'plt.text' para dibujar el texto en la posición especificada\n",
    "            # Este bucle for recorre cada \"barra\" en el gráfico de barras. \n",
    "            # Cada \"barra\" es un objeto en matplotlib que representa una barra individual en el gráfico.\n",
    "for bar in bars:\n",
    "\n",
    "                # Aquí, estamos obteniendo la altura de la barra actual. \n",
    "                # La altura de la barra en un gráfico de barras representa el valor que la barra está mostrando.\n",
    "    yval = bar.get_height()\n",
    "\n",
    "                # Luego, usamos la función text() de matplotlib para agregar un texto en el gráfico. \n",
    "                # Esta función toma varias entradas: las dos primeras son las coordenadas 'x' e 'y' donde queremos colocar el texto.\n",
    "                # Estamos colocando el texto en el centro de la barra actual (bar.get_x() + bar.get_width()/2) y justo encima de la barra (yval + 1).\n",
    "                # La tercera entrada para la función text() es el texto que queremos mostrar. \n",
    "                # En este caso, estamos mostrando el valor de la altura de la barra (es decir, el valor que la barra está mostrando), redondeado a dos decimales.\n",
    "                # Finalmente, 'ha' y 'va' son argumentos opcionales que especifican la alineación horizontal y vertical del texto. \n",
    "                # En este caso, estamos centrando el texto horizontalmente y alineándolo en la parte inferior verticalmente.\n",
    "    plt.text(bar.get_x() + bar.get_width()/2, yval + 1, round(yval, 2), ha='center', va='bottom')\n",
    "\n",
    "# Mostramos el gráfico\n",
    "plt.show()\n",
    "\n",
    "            # Ahora, comenzamos a definir nuestro gráfico de pastel\n",
    "            # Nuevamente, definimos el tamaño de la figura\n",
    "plt.figure(figsize=(6, 4))\n",
    "\n",
    "            # Creamos el gráfico de pastel con los porcentajes y categorías que definimos anteriormente\n",
    "            # También especificamos los colores de los segmentos para un mejor contraste visual\n",
    "\n",
    "#En codigo:\n",
    "\n",
    "# autopct='%1.1f%%' - Esto añade etiquetas a cada sección del gráfico circular\n",
    "#                     con el porcentaje que cada sección representa del total.\n",
    "#                     '%1.1f%%' es una cadena de formato que dice que queremos un número flotante\n",
    "#                     con 1 dígito antes del punto decimal y 1 dígito después del punto decimal,\n",
    "#                     seguido de un signo de porcentaje. En otras palabras, las etiquetas se verán\n",
    "#                     como '23.4%', '30.0%', etc.\n",
    "\n",
    "# startangle=90 - Esto establece el ángulo de inicio para dibujar el gráfico circular.\n",
    "#                 Por defecto, los gráficos circulares se dibujan comenzando desde el eje x positivo (es decir, 0 grados).\n",
    "#                 startangle=90 cambia esto para que el gráfico comience desde el eje y positivo (es decir, 90 grados).\n",
    "#                 Esto es útil para controlar la orientación del gráfico circular.\n",
    "plt.pie(percentages, labels=categories, autopct='%1.1f%%', startangle=90, colors=['skyblue', 'salmon'])\n",
    "\n",
    "# Agregamos un título a nuestro gráfico\n",
    "plt.title('Percentage of User Actions')\n",
    "\n",
    "# Aseguramos que el gráfico de pastel sea un círculo perfecto\n",
    "plt.axis('equal')\n",
    "\n",
    "# Mostramos el gráfico\n",
    "plt.show()"
   ]
  },
  {
   "cell_type": "markdown",
   "metadata": {},
   "source": [
    "Step 6: What percentage placed a t-shirt in their cart but did not checkout?"
   ]
  },
  {
   "cell_type": "code",
   "execution_count": 112,
   "metadata": {},
   "outputs": [
    {
     "name": "stdout",
     "output_type": "stream",
     "text": [
      "+----+--------------------------------------+---------------------+---------------------+\n",
      "|    | user_id                              | cart_time           | checkout_time       |\n",
      "|----+--------------------------------------+---------------------+---------------------|\n",
      "|  0 | 2be90e7c-9cca-44e0-bcc5-124b945ff168 | 2017-11-07 20:45:00 | 2017-11-07 21:14:00 |\n",
      "|  1 | 4397f73f-1da3-4ab3-91af-762792e25973 | 2017-05-27 01:35:00 | NaT                 |\n",
      "|  2 | a9db3d4b-0a0a-4398-a55a-ebb2c7adf663 | 2017-03-04 10:38:00 | 2017-03-04 11:04:00 |\n",
      "|  3 | b594862a-36c5-47d5-b818-6e9512b939b3 | 2017-09-27 08:22:00 | 2017-09-27 08:26:00 |\n",
      "|  4 | a68a16e2-94f0-4ce8-8ce3-784af0bbb974 | 2017-07-26 15:48:00 | NaT                 |\n",
      "+----+--------------------------------------+---------------------+---------------------+\n",
      "Cart but not checkout: 35.06 %\n"
     ]
    },
    {
     "data": {
      "image/png": "[encoded data removed]",
      "text/plain": [
       "<Figure size 600x600 with 1 Axes>"
      ]
     },
     "metadata": {},
     "output_type": "display_data"
    }
   ],
   "source": [
    "        #Visualizacion de los dataframe\n",
    "        #U nicamente para visualizacion cuando son necesarios\n",
    "# print(tabulate(checkout.head(), headers='keys', tablefmt='psql'))\n",
    "# print(tabulate(cart.head(), headers='keys', tablefmt='psql'))\n",
    "\n",
    "        #fusion de ambos data frames\n",
    "        #lo realizamos a la izquierda ya que nos interesa en base a las personas que estan estuvieron el carrito\n",
    "        #cuantas personas compraron\n",
    "cart_checkout = cart.merge(checkout, how = 'left')\n",
    "#cart_checkout_2  = cart.merge(checkout, how = 'right')\n",
    "\n",
    "print(tabulate(cart_checkout.head(), headers='keys', tablefmt='psql'))\n",
    "#print(tabulate(cart_checkout_2.head(), headers='keys', tablefmt='psql'))\n",
    "\n",
    "null_checkout_times = len(cart_checkout[cart_checkout.checkout_time.isnull()])\n",
    "#                       Calculo del porcentaje de cuantas personas, no compraron, que estaban en el carro de compra\n",
    "cart_not_checkout = float(null_checkout_times) / float(len(cart))\n",
    "\n",
    "print(f\"Cart but not checkout: {round(cart_not_checkout * 100 , 2)} %\")\n",
    "\n",
    "# Definimos la paleta de colores que queremos utilizar en nuestro gráfico de pastel\n",
    "colors = ['#ff9999','#66b3ff','#99ff99','#ffcc99', '#c2c2f0']\n",
    "\n",
    "# Generamos el gráfico de pastel\n",
    "plt.figure(figsize=(6,6))\n",
    "plt.pie([cart_not_checkout, 1-cart_not_checkout], labels=['Cart not Checkout', 'Checkout'], colors=colors, autopct='%1.1f%%', startangle=90)\n",
    "\n",
    "# Le damos un \"efecto de sombreado\" al gráfico\n",
    "plt.gca().add_artist(plt.Circle( (0,0), 0.7, color='grey', fc='white', linewidth=1.25))\n",
    "\n",
    "# Cambiamos el color de las etiquetas de porcentaje a negro\n",
    "patches, texts, autotexts = plt.pie([cart_not_checkout, 1-cart_not_checkout], labels=['Cart not Checkout', 'Checkout'], colors=colors, autopct='%1.1f%%', startangle=90)\n",
    "for text in autotexts:\n",
    "    text.set_color('black')\n",
    "\n",
    "# Mostramos el gráfico\n",
    "plt.show()"
   ]
  },
  {
   "cell_type": "markdown",
   "metadata": {},
   "source": [
    "Step 7: Merge it all together"
   ]
  },
  {
   "cell_type": "code",
   "execution_count": 113,
   "metadata": {},
   "outputs": [
    {
     "name": "stdout",
     "output_type": "stream",
     "text": [
      "    user_id                               visit_time           cart_time            checkout_time        purchase_time\n",
      "--  ------------------------------------  -------------------  -------------------  -------------------  -------------------\n",
      " 0  943647ef-3682-4750-a2e1-918ba6f16188  2017-04-07 15:14:00  NaT                  NaT                  NaT\n",
      " 1  0c3a3dd0-fb64-4eac-bf84-ba069ce409f2  2017-01-26 14:24:00  2017-01-26 14:44:00  2017-01-26 14:54:00  2017-01-26 15:08:00\n",
      " 2  6e0b2d60-4027-4d9a-babd-0e7d40859fb1  2017-08-20 08:23:00  2017-08-20 08:31:00  NaT                  NaT\n",
      " 3  6879527e-c5a6-4d14-b2da-50b85212b0ab  2017-11-04 18:15:00  NaT                  NaT                  NaT\n",
      " 4  a84327ff-5daa-4ba1-b789-d5b4caf81e96  2017-02-27 11:25:00  NaT                  NaT                  NaT\n"
     ]
    }
   ],
   "source": [
    "#Combiunacion en forma de cadena, y asi como dado que nos interesa como va reducioendo el numero total que recibimos, con el total quer realiza la comrpa.\n",
    "\n",
    "all_data = visits_cart_left\\\n",
    ".merge(cart_checkout, how = 'left')\\\n",
    ".merge(purchase, how = 'left')\n",
    "\n",
    "\n",
    "print(tabulate(all_data.head(), headers='keys', tablefmt='simple'))\n",
    "\n"
   ]
  },
  {
   "cell_type": "code",
   "execution_count": 118,
   "metadata": {},
   "outputs": [
    {
     "data": {
      "image/png": "[encoded data removed]",
      "text/plain": [
       "<Figure size 640x480 with 1 Axes>"
      ]
     },
     "metadata": {},
     "output_type": "display_data"
    }
   ],
   "source": [
    "# Valores que representan las etapas del embudo\n",
    "num_visits = len(all_data)\n",
    "num_carts = len(all_data[~all_data.cart_time.isnull()])\n",
    "num_checkouts = len(all_data[~all_data.checkout_time.isnull()])\n",
    "num_purchases = len(all_data[~all_data.purchase_time.isnull()])\n",
    "\n",
    "# Las etapas del embudo\n",
    "stages = ['visits', 'carts', 'checkouts', 'purchases']\n",
    "\n",
    "# Los valores para cada etapa\n",
    "values = [num_visits, num_carts, num_checkouts, num_purchases]\n",
    "\n",
    "# Crear una figura y un eje\n",
    "fig, ax = plt.subplots()\n",
    "\n",
    "# Crear el gráfico de barras horizontal\n",
    "bars = ax.barh(stages, values, color='skyblue')\n",
    "\n",
    "# Invertir el eje y para que la etapa final del embudo esté en la parte superior\n",
    "ax.invert_yaxis()\n",
    "\n",
    "# Agregar valores de texto a las barras\n",
    "for bar in bars:\n",
    "    ax.text(bar.get_width(), bar.get_y() + bar.get_height()/2, \n",
    "            f'{bar.get_width()/num_visits:.1%}', \n",
    "            va='center', ha='right', color='black')\n",
    "\n",
    "# Mostrar el gráfico\n",
    "plt.show()"
   ]
  },
  {
   "cell_type": "markdown",
   "metadata": {},
   "source": [
    "Step 8: % of users who got to checkout but did not purchase"
   ]
  },
  {
   "cell_type": "code",
   "execution_count": null,
   "metadata": {},
   "outputs": [],
   "source": []
  },
  {
   "cell_type": "markdown",
   "metadata": {},
   "source": [
    "Step 9: check each part of the funnel, let's print all 3 of them again"
   ]
  },
  {
   "cell_type": "code",
   "execution_count": null,
   "metadata": {},
   "outputs": [],
   "source": []
  },
  {
   "cell_type": "markdown",
   "metadata": {},
   "source": [
    "*The weakest part of the funnel is clearly getting a person who visited the site to add a tshirt to their cart. Once they've added a t-shirt to their cart it is fairly likely they end up purchasing it. A suggestion could be to make the add-to-cart button more prominent on the front page.*\n",
    "\n",
    "\n",
    "Step 10: adding new column"
   ]
  },
  {
   "cell_type": "code",
   "execution_count": null,
   "metadata": {},
   "outputs": [],
   "source": []
  },
  {
   "cell_type": "markdown",
   "metadata": {},
   "source": [
    "Step 11: examine the results"
   ]
  },
  {
   "cell_type": "code",
   "execution_count": null,
   "metadata": {},
   "outputs": [],
   "source": []
  },
  {
   "cell_type": "markdown",
   "metadata": {},
   "source": [
    "Step 12: average time to purchase"
   ]
  },
  {
   "cell_type": "code",
   "execution_count": null,
   "metadata": {},
   "outputs": [],
   "source": []
  },
  {
   "cell_type": "code",
   "execution_count": null,
   "metadata": {},
   "outputs": [],
   "source": []
  }
 ],
 "metadata": {
  "kernelspec": {
   "display_name": "Python 3",
   "language": "python",
   "name": "python3"
  },
  "language_info": {
   "codemirror_mode": {
    "name": "ipython",
    "version": 3
   },
   "file_extension": ".py",
   "mimetype": "text/x-python",
   "name": "python",
   "nbconvert_exporter": "python",
   "pygments_lexer": "ipython3",
   "version": "3.11.2"
  }
 },
 "nbformat": 4,
 "nbformat_minor": 4
}
